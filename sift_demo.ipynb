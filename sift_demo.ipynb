{
 "cells": [
  {
   "cell_type": "code",
   "execution_count": 1,
   "metadata": {},
   "outputs": [],
   "source": [
    "import cv2\n",
    "import numpy as np\n",
    "from numpy import cos, sin, deg2rad, roll, logical_and, where, inner, exp, rad2deg, arctan2, trace, dot, convolve, sqrt, subtract, log, floor, stack, delete, concatenate, max\n",
    "from numpy.linalg import det, lstsq, norm\n",
    "from einops import rearrange\n",
    "from sift import getKernelSizes, getGaussianImages, getDoG, getScaleSpaceExtrema, getDescriptors, sift"
   ]
  },
  {
   "cell_type": "code",
   "execution_count": 2,
   "metadata": {},
   "outputs": [],
   "source": [
    "####\n",
    "path1 = 'images/test1.jpeg'\n",
    "path2 = 'images/test2.jpeg'\n",
    "####\n",
    "\n",
    "img1 = cv2.imread(path1)\n",
    "img2 = cv2.imread(path2)\n",
    "img1_gray = cv2.cvtColor(img1, cv2.COLOR_BGR2GRAY)\n",
    "img2_gray = cv2.cvtColor(img2, cv2.COLOR_BGR2GRAY)\n",
    "\n",
    "# rescale image \n",
    "xscale = 0.25\n",
    "yscale = 0.25\n",
    "resized_image = cv2.resize(img1_gray, (0, 0), fx = xscale, fy = yscale)\n"
   ]
  },
  {
   "cell_type": "code",
   "execution_count": null,
   "metadata": {},
   "outputs": [],
   "source": [
    "### Parameters ###\n",
    "num_scale = 3\n",
    "boarder_width = 5\n",
    "sigma = 1 \n",
    "image = resized_image\n",
    "\n",
    "num_octave = int(floor(log(min(resized_image.shape))/log(2) - 3)) # number of times we can half the image before it is too small\n",
    "kernel_sizes = getKernelSizes(1, 3)\n",
    "gaussian_images = getGaussianImages(resized_image, num_octave, kernel_sizes)\n",
    "DoG_images = getDoG(gaussian_images)\n",
    "keypoints= getScaleSpaceExtrema(gaussian_images, DoG_images, num_scale, sigma)\n",
    "descriptors = getDescriptors(keypoints, gaussian_images)\n",
    "real_keypoints = []\n",
    "for x in keypoints:\n",
    "    if len(x) != 0:\n",
    "        real_keypoints.append(x[0])\n",
    "        "
   ]
  },
  {
   "cell_type": "code",
   "execution_count": null,
   "metadata": {},
   "outputs": [],
   "source": [
    "# record homemade sift image\n",
    "img=cv2.drawKeypoints(resized_image,real_keypoints,resized_image)\n",
    "cv2.imwrite('homemade_sift.jpg',img)"
   ]
  },
  {
   "cell_type": "code",
   "execution_count": null,
   "metadata": {},
   "outputs": [],
   "source": [
    "# record opencv sift image\n",
    "sift = cv2.SIFT_create()\n",
    "kp = sift.detect(resized_image,None)\n",
    "img=cv2.drawKeypoints(resized_image,kp,resized_image)\n",
    "cv2.imwrite('opencv_sift.jpg',img)"
   ]
  }
 ],
 "metadata": {
  "kernelspec": {
   "display_name": "mycv",
   "language": "python",
   "name": "python3"
  },
  "language_info": {
   "codemirror_mode": {
    "name": "ipython",
    "version": 3
   },
   "file_extension": ".py",
   "mimetype": "text/x-python",
   "name": "python",
   "nbconvert_exporter": "python",
   "pygments_lexer": "ipython3",
   "version": "3.10.14"
  }
 },
 "nbformat": 4,
 "nbformat_minor": 2
}
