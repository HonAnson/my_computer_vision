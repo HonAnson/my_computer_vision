{
 "cells": [
  {
   "cell_type": "code",
   "execution_count": 2,
   "metadata": {},
   "outputs": [],
   "source": [
    "import numpy as np\n",
    "from einops import rearrange"
   ]
  },
  {
   "cell_type": "code",
   "execution_count": 59,
   "metadata": {},
   "outputs": [],
   "source": [
    "a = np.array([[1.2,2,3], [4,5,6],[7,8,9]])\n",
    "b = np.array([[1,2,3], [8,49,10]])\n",
    "c = np.array([[1,2,300], [8,49,10]])\n",
    "# d = np.max(np.maximum(a, b, c))\n",
    "# c = np.max(a)\n"
   ]
  },
  {
   "cell_type": "code",
   "execution_count": 19,
   "metadata": {},
   "outputs": [],
   "source": [
    "x = np.array([1,2,3,3,3,6,7])\n",
    "a,b,c = x[2:5]"
   ]
  },
  {
   "cell_type": "code",
   "execution_count": 20,
   "metadata": {},
   "outputs": [],
   "source": [
    "unique = []\n",
    "unique.append(x[0])\n",
    "for numb in x[1:]:\n",
    "    prev_unique = unique[-1]\n",
    "    if prev_unique != numb:\n",
    "        unique.append(numb)"
   ]
  },
  {
   "cell_type": "code",
   "execution_count": 2,
   "metadata": {},
   "outputs": [
    {
     "name": "stdout",
     "output_type": "stream",
     "text": [
      "4\n"
     ]
    }
   ],
   "source": [
    "a = 7\n",
    "bin = 3\n",
    "if a < 0:\n",
    "    a += bin\n",
    "if a >= bin:\n",
    "    a -= bin\n",
    "print(a)"
   ]
  }
 ],
 "metadata": {
  "kernelspec": {
   "display_name": "mycv",
   "language": "python",
   "name": "python3"
  },
  "language_info": {
   "codemirror_mode": {
    "name": "ipython",
    "version": 3
   },
   "file_extension": ".py",
   "mimetype": "text/x-python",
   "name": "python",
   "nbconvert_exporter": "python",
   "pygments_lexer": "ipython3",
   "version": "3.10.14"
  }
 },
 "nbformat": 4,
 "nbformat_minor": 2
}
