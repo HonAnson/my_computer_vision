{
 "cells": [
  {
   "cell_type": "code",
   "execution_count": 2,
   "metadata": {},
   "outputs": [],
   "source": [
    "import numpy as np"
   ]
  },
  {
   "cell_type": "code",
   "execution_count": 14,
   "metadata": {},
   "outputs": [],
   "source": [
    "def gaussianSmoothing(image, sigma):\n",
    "    bound = np.ceil(4*sigma)\n",
    "    low_b, up_b = -bound, bound\n",
    "    k = np.arange(low_b, up_b+1, 1)\n",
    "    print(k)\n",
    "    # get gaussian values\n",
    "    g = np.exp(-(np.square(k)) / (2*sigma**2))\n",
    "    g /= sum(g)\n",
    "\n",
    "\n",
    "    \n",
    "\n",
    "    return g"
   ]
  },
  {
   "cell_type": "code",
   "execution_count": 15,
   "metadata": {},
   "outputs": [
    {
     "name": "stdout",
     "output_type": "stream",
     "text": [
      "[-4. -3. -2. -1.  0.  1.  2.  3.  4.]\n"
     ]
    },
    {
     "data": {
      "text/plain": [
       "array([1.33830625e-04, 4.43186162e-03, 5.39911274e-02, 2.41971446e-01,\n",
       "       3.98943469e-01, 2.41971446e-01, 5.39911274e-02, 4.43186162e-03,\n",
       "       1.33830625e-04])"
      ]
     },
     "execution_count": 15,
     "metadata": {},
     "output_type": "execute_result"
    }
   ],
   "source": []
  }
 ],
 "metadata": {
  "kernelspec": {
   "display_name": "mycv",
   "language": "python",
   "name": "python3"
  },
  "language_info": {
   "codemirror_mode": {
    "name": "ipython",
    "version": 3
   },
   "file_extension": ".py",
   "mimetype": "text/x-python",
   "name": "python",
   "nbconvert_exporter": "python",
   "pygments_lexer": "ipython3",
   "version": "3.10.14"
  }
 },
 "nbformat": 4,
 "nbformat_minor": 2
}
