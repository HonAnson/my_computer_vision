{
 "cells": [
  {
   "cell_type": "code",
   "execution_count": 1,
   "metadata": {},
   "outputs": [],
   "source": [
    "import cv2\n",
    "import numpy as np\n",
    "from numpy import cos, sin, deg2rad, roll, logical_and, where, inner, exp, rad2deg, arctan2, trace, dot, convolve, sqrt, subtract, log, floor, stack, delete, concatenate, max\n",
    "from numpy.linalg import det, lstsq, norm\n",
    "from einops import rearrange\n",
    "from sift import getKernelSizes, getGaussianImages, getDoG, getScaleSpaceExtrema, sift, gaussianBlurring"
   ]
  },
  {
   "cell_type": "code",
   "execution_count": 2,
   "metadata": {},
   "outputs": [
    {
     "name": "stdout",
     "output_type": "stream",
     "text": [
      "[1.         0.76642094 0.96562987 1.2166174  1.53284187 1.93125974]\n"
     ]
    },
    {
     "name": "stderr",
     "output_type": "stream",
     "text": [
      "/home/ansonhon/anson/projects/my_computer_vision/sift.py:105: RuntimeWarning: overflow encountered in scalar subtract\n",
      "  dx = 0.5 * (pixel_cube[1,1,2] - pixel_cube[1,1,0])\n",
      "/home/ansonhon/anson/projects/my_computer_vision/sift.py:117: RuntimeWarning: overflow encountered in scalar subtract\n",
      "  dxs = 0.25 * (pixel_cube[2,1,2] - pixel_cube[2,1,0] - pixel_cube[0,1,2] +pixel_cube[0,1,0])\n",
      "/home/ansonhon/anson/projects/my_computer_vision/sift.py:117: RuntimeWarning: overflow encountered in scalar add\n",
      "  dxs = 0.25 * (pixel_cube[2,1,2] - pixel_cube[2,1,0] - pixel_cube[0,1,2] +pixel_cube[0,1,0])\n",
      "/home/ansonhon/anson/projects/my_computer_vision/sift.py:118: RuntimeWarning: overflow encountered in scalar subtract\n",
      "  dys = 0.25 * (pixel_cube[2,2,1] - pixel_cube[2,0,1] - pixel_cube[0,2,1] +pixel_cube[0,0,1])\n",
      "/home/ansonhon/anson/projects/my_computer_vision/sift.py:118: RuntimeWarning: overflow encountered in scalar add\n",
      "  dys = 0.25 * (pixel_cube[2,2,1] - pixel_cube[2,0,1] - pixel_cube[0,2,1] +pixel_cube[0,0,1])\n",
      "/home/ansonhon/anson/projects/my_computer_vision/sift.py:139: FutureWarning: `rcond` parameter will change to the default of machine precision times ``max(M, N)`` where M and N are the input matrix dimensions.\n",
      "To use the future default and silence this warning we advise to pass `rcond=None`, to keep using the old, explicitly pass `rcond=-1`.\n",
      "  extremum_update = -lstsq(hessian, gradient)[0]\n",
      "/home/ansonhon/anson/projects/my_computer_vision/sift.py:116: RuntimeWarning: overflow encountered in scalar subtract\n",
      "  dxy = 0.25 * (pixel_cube[1,2,2] - pixel_cube[1,2,0] - pixel_cube[1,0,2] +pixel_cube[1,0,0])\n",
      "/home/ansonhon/anson/projects/my_computer_vision/sift.py:116: RuntimeWarning: overflow encountered in scalar add\n",
      "  dxy = 0.25 * (pixel_cube[1,2,2] - pixel_cube[1,2,0] - pixel_cube[1,0,2] +pixel_cube[1,0,0])\n",
      "/home/ansonhon/anson/projects/my_computer_vision/sift.py:106: RuntimeWarning: overflow encountered in scalar subtract\n",
      "  dy = 0.5 * (pixel_cube[1,2,1] - pixel_cube[1,0,1])\n",
      "/home/ansonhon/anson/projects/my_computer_vision/sift.py:107: RuntimeWarning: overflow encountered in scalar subtract\n",
      "  dz = 0.5 * (pixel_cube[2,1,1] - pixel_cube[0,1,1])\n",
      "/home/ansonhon/anson/projects/my_computer_vision/sift.py:194: RuntimeWarning: overflow encountered in scalar subtract\n",
      "  dy = gaussian_image[region_y-1, region_x] - gaussian_image[region_y+1, region_x]\n",
      "/home/ansonhon/anson/projects/my_computer_vision/sift.py:193: RuntimeWarning: overflow encountered in scalar subtract\n",
      "  dx = gaussian_image[region_y, region_x+1] - gaussian_image[region_y, region_x-1]\n"
     ]
    }
   ],
   "source": [
    "# Load the images\n",
    "image1 = cv2.imread('images/test1.jpeg', cv2.IMREAD_GRAYSCALE)\n",
    "image2 = cv2.imread('images/test2.jpeg', cv2.IMREAD_GRAYSCALE)\n",
    "\n",
    "# reduce image size\n",
    "xscale = 0.25\n",
    "yscale = 0.25\n",
    "image1_small = cv2.resize(image1, (0,0), fx = xscale, fy = yscale)\n",
    "image2_small = cv2.resize(image2, (0,0), fx = xscale, fy = yscale)\n",
    "\n",
    "# # Initialize SIFT detector\n",
    "# sift = cv2.SIFT_create()\n",
    "\n",
    "# # Detect keypoints and compute descriptors\n",
    "# keypoints1, descriptors1 = sift.detectAndCompute(image1, None)\n",
    "# keypoints2, descriptors2 = sift.detectAndCompute(image2, None)\n",
    "\n",
    "keypoints1, descriptors1 = sift(image1_small)\n",
    "keypoints2, descriptors2 = sift(image2_small)\n",
    "\n"
   ]
  },
  {
   "cell_type": "code",
   "execution_count": null,
   "metadata": {},
   "outputs": [],
   "source": [
    "\n",
    "# Initialize the Brute-Force matcher with L2 norm\n",
    "bf = cv2.BFMatcher(cv2.NORM_L2, crossCheck=False)\n",
    "\n",
    "# Match descriptors using KNN algorithm (k=2)\n",
    "matches = bf.knnMatch(descriptors1, descriptors2, k=2)\n",
    "\n",
    "# Apply Lowe's ratio test\n",
    "good_matches = []\n",
    "for m, n in matches:\n",
    "    if m.distance < 0.75 * n.distance:\n",
    "        good_matches.append(m)\n",
    "\n",
    "# Draw matches\n",
    "matched_image = cv2.drawMatches(image1, keypoints1, image2, keypoints2, good_matches, None, flags=cv2.DrawMatchesFlags_NOT_DRAW_SINGLE_POINTS)\n",
    "# matched_image_small = cv2.resize(matched_image, (0,0), fx = 0.5, fy = 0.5)\n",
    "\n",
    "\n",
    "# Display the matched image\n",
    "cv2.imshow('Matches', matched_image)\n",
    "cv2.waitKey(0)\n",
    "cv2.destroyAllWindows()"
   ]
  }
 ],
 "metadata": {
  "kernelspec": {
   "display_name": "mycv",
   "language": "python",
   "name": "python3"
  },
  "language_info": {
   "codemirror_mode": {
    "name": "ipython",
    "version": 3
   },
   "file_extension": ".py",
   "mimetype": "text/x-python",
   "name": "python",
   "nbconvert_exporter": "python",
   "pygments_lexer": "ipython3",
   "version": "3.10.14"
  }
 },
 "nbformat": 4,
 "nbformat_minor": 2
}
