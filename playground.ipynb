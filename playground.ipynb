{
 "cells": [
  {
   "cell_type": "code",
   "execution_count": 68,
   "metadata": {},
   "outputs": [],
   "source": [
    "import cv2\n",
    "import numpy as np\n",
    "from numpy import cos, sin, deg2rad, roll, logical_and, where, inner, exp, rad2deg, arctan2, trace, dot, convolve, sqrt, subtract, log, floor, stack, delete, concatenate, max\n",
    "from numpy.linalg import det, lstsq, norm\n",
    "from einops import rearrange\n",
    "from sift import sift\n",
    "from stero import matchKeyPoints\n",
    "from random import shuffle"
   ]
  },
  {
   "cell_type": "code",
   "execution_count": 58,
   "metadata": {},
   "outputs": [],
   "source": [
    "# Load the images\n",
    "image1 = cv2.imread('images/test1.jpeg', cv2.IMREAD_GRAYSCALE)\n",
    "image2 = cv2.imread('images/test2.jpeg', cv2.IMREAD_GRAYSCALE)\n",
    "\n",
    "# reduce image size\n",
    "xscale = 0.5\n",
    "yscale = 0.5\n",
    "image1_small = cv2.resize(image1, (0,0), fx = xscale, fy = yscale)\n",
    "image2_small = cv2.resize(image2, (0,0), fx = xscale, fy = yscale)\n",
    "\n",
    "# Initialize SIFT detector\n",
    "sift = cv2.SIFT_create()\n",
    "\n",
    "# Detect keypoints and compute descriptors\n",
    "keypoints1, descriptors1 = sift.detectAndCompute(image1, None)\n",
    "keypoints2, descriptors2 = sift.detectAndCompute(image2, None)\n",
    "\n",
    "# keypoints1, descriptors1 = sift(image1_small)\n",
    "# keypoints2, descriptors2 = sift(image2_small)\n",
    "\n"
   ]
  },
  {
   "cell_type": "code",
   "execution_count": 59,
   "metadata": {},
   "outputs": [],
   "source": [
    "def matchKeyPoints(keypoints1, keypoints2, descriptors1, descriptors2):\n",
    "    bf = cv2.BFMatcher()\n",
    "    matches = bf.knnMatch(descriptors1, descriptors2, k=2)\n",
    "    good_matches = []\n",
    "    for m, n in matches:\n",
    "        if m.distance < 0.75 * n.distance:\n",
    "            good_matches.append(m)\n",
    "    return good_matches"
   ]
  },
  {
   "cell_type": "code",
   "execution_count": 64,
   "metadata": {},
   "outputs": [],
   "source": [
    "good_matches = matchKeyPoints(keypoints1, keypoints2, descriptors1, descriptors2)"
   ]
  },
  {
   "cell_type": "code",
   "execution_count": 60,
   "metadata": {},
   "outputs": [],
   "source": [
    "# Draw matches\n",
    "# matched_image = cv2.drawMatches(image1, keypoints1, image2, keypoints2, good_matches, None, flags=cv2.DrawMatchesFlags_NOT_DRAW_SINGLE_POINTS)\n",
    "# matched_image_small = cv2.resize(matched_image, (0,0), fx = 0.5, fy = 0.5)\n",
    "\n",
    "# # Display the matched image\n",
    "# cv2.imshow('Matches', matched_image)\n",
    "# cv2.waitKey(0)\n",
    "# cv2.destroyAllWindows()\n"
   ]
  },
  {
   "cell_type": "code",
   "execution_count": 69,
   "metadata": {},
   "outputs": [],
   "source": [
    "shuffle(good_matches)\n"
   ]
  },
  {
   "cell_type": "code",
   "execution_count": 74,
   "metadata": {},
   "outputs": [
    {
     "data": {
      "text/plain": [
       "1104"
      ]
     },
     "execution_count": 74,
     "metadata": {},
     "output_type": "execute_result"
    }
   ],
   "source": [
    "len(good_matches)"
   ]
  },
  {
   "cell_type": "code",
   "execution_count": 75,
   "metadata": {},
   "outputs": [],
   "source": [
    "\n",
    "image1_points = np.zeros((8))\n",
    "image2_points = np.zeros((8))\n",
    "\n",
    "\n",
    "for i in range(4):\n",
    "    image1_idx = good_matches[i].queryIdx\n",
    "    image2_idx = good_matches[i].trainIdx\n",
    "    x1, y1 = keypoints1[image1_idx].pt\n",
    "    x2, y2 = keypoints2[image1_idx].pt\n",
    "    image1_points[2*i] = x1\n",
    "    image1_points[2*i+1] = y1\n",
    "    image2_points[2*i] = x2\n",
    "    image2_points[2*i+1] = y2\n",
    "\n",
    "\n",
    "\n",
    "### now work on get transformation\n",
    "# estimate the fundamental matrix from corrspondane\n",
    "f_unrolled = np.zeros(8)\n",
    "A = np.zeros((8,8))\n",
    "\n",
    "\n",
    "# decompose fundamental matrix to get essential matrix\n"
   ]
  },
  {
   "cell_type": "code",
   "execution_count": 63,
   "metadata": {},
   "outputs": [
    {
     "data": {
      "text/plain": [
       "< cv2.DMatch 0x7a2985245750>"
      ]
     },
     "execution_count": 63,
     "metadata": {},
     "output_type": "execute_result"
    }
   ],
   "source": [
    "def randsac(matches, num_trials):\n",
    "    best_dist = 10000000\n",
    "    best_trans = np.zeros((3,3))\n",
    "    for n in num_trials:\n",
    "        matches.shuffle()\n",
    "        selected_pairs = matches[0:4,:]     # minimum number of points needed to conduct stero rectification\n",
    "        \n",
    "        # transformation = getSteroTransformation(selected_pairs)\n",
    "        # transformed_points = matches[0] @ transformation\n",
    "        # mean_dist = getMeanDistance(transformed_points, matches[1])\n",
    "        # if mean_dist < best_dist:\n",
    "        #     best_dist = mean_dist\n",
    "        #     best_trans = transformation\n",
    "    return best_trans\n"
   ]
  },
  {
   "cell_type": "code",
   "execution_count": 51,
   "metadata": {},
   "outputs": [],
   "source": [
    "# # Initialize the Brute-Force matcher with L2 norm\n",
    "# bf = cv2.BFMatcher(cv2.NORM_L2, crossCheck=False)\n",
    "# # Match descriptors using KNN algorithm (k=2)\n",
    "# matches = bf.knnMatch(descriptors1, descriptors2, k=2)\n",
    "\n",
    "# # Apply Lowe's ratio test\n",
    "# good_matches = []\n",
    "# for m, n in matches:\n",
    "#     if m.distance < 0.75 * n.distance:\n",
    "#         good_matches.append(m)\n",
    "\n",
    "# # Draw matches\n",
    "# matched_image = cv2.drawMatches(image1, keypoints1, image2, keypoints2, good_matches, None, flags=cv2.DrawMatchesFlags_NOT_DRAW_SINGLE_POINTS)\n",
    "# # matched_image_small = cv2.resize(matched_image, (0,0), fx = 0.5, fy = 0.5)\n",
    "\n",
    "\n",
    "# # Display the matched image\n",
    "# cv2.imshow('Matches', matched_image)\n",
    "# cv2.waitKey(0)\n",
    "# cv2.destroyAllWindows()"
   ]
  }
 ],
 "metadata": {
  "kernelspec": {
   "display_name": "mycv",
   "language": "python",
   "name": "python3"
  },
  "language_info": {
   "codemirror_mode": {
    "name": "ipython",
    "version": 3
   },
   "file_extension": ".py",
   "mimetype": "text/x-python",
   "name": "python",
   "nbconvert_exporter": "python",
   "pygments_lexer": "ipython3",
   "version": "3.10.14"
  }
 },
 "nbformat": 4,
 "nbformat_minor": 2
}
